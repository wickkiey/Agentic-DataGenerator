{
 "cells": [
  {
   "cell_type": "code",
   "execution_count": 1,
   "metadata": {},
   "outputs": [],
   "source": [
    "from typing import Annotated\n",
    "from typing_extensions import TypedDict\n",
    "from langgraph.graph import StateGraph, START, END\n",
    "from langgraph.graph.message import add_messages"
   ]
  },
  {
   "cell_type": "code",
   "execution_count": 2,
   "metadata": {},
   "outputs": [
    {
     "data": {
      "text/plain": [
       "True"
      ]
     },
     "execution_count": 2,
     "metadata": {},
     "output_type": "execute_result"
    }
   ],
   "source": [
    "from dotenv import load_dotenv\n",
    "load_dotenv()"
   ]
  },
  {
   "cell_type": "code",
   "execution_count": 17,
   "metadata": {},
   "outputs": [],
   "source": [
    "\n",
    "class State(TypedDict):\n",
    "    messages: Annotated[list, add_messages]\n",
    "\n",
    "graph_builder = StateGraph(State)"
   ]
  },
  {
   "cell_type": "code",
   "execution_count": null,
   "metadata": {},
   "outputs": [],
   "source": []
  },
  {
   "cell_type": "code",
   "execution_count": 4,
   "metadata": {},
   "outputs": [],
   "source": [
    "from langchain_ollama import ChatOllama\n",
    "\n",
    "llm = ChatOllama(\n",
    "    model=\"llama3.1\",\n",
    "    temperature=0,\n",
    "    # other params...\n",
    ")"
   ]
  },
  {
   "cell_type": "code",
   "execution_count": 5,
   "metadata": {},
   "outputs": [
    {
     "data": {
      "text/plain": [
       "[{'url': 'https://medium.com/@cplog/introduction-to-langgraph-a-beginners-guide-14f9be027141',\n",
       "  'content': 'Nodes: Nodes are the building blocks of your LangGraph. Each node represents a function or a computation step. You define nodes to perform specific tasks, such as processing input, making'},\n",
       " {'url': 'https://www.datacamp.com/tutorial/langgraph-tutorial',\n",
       "  'content': \"In LangGraph, each node represents an LLM agent, and the edges are the communication channels between these agents. This structure allows for clear and manageable workflows, where each agent performs specific tasks and passes information to other agents as needed. State management. One of LangGraph's standout features is its automatic state\"}]"
      ]
     },
     "execution_count": 5,
     "metadata": {},
     "output_type": "execute_result"
    }
   ],
   "source": [
    "# Define Tavily search Tool \n",
    "\n",
    "from langchain_community.tools.tavily_search import TavilySearchResults\n",
    "\n",
    "tool = TavilySearchResults(max_results=2)\n",
    "tools = [tool]\n",
    "tool.invoke(\"What's a 'node' in LangGraph?\")"
   ]
  },
  {
   "cell_type": "code",
   "execution_count": 6,
   "metadata": {},
   "outputs": [],
   "source": [
    "llm_with_tools = llm.bind_tools(tools)"
   ]
  },
  {
   "cell_type": "code",
   "execution_count": 7,
   "metadata": {},
   "outputs": [],
   "source": [
    "# from langchain_core.messages import AIMessage\n",
    "\n",
    "# messages = [\n",
    "#     (\n",
    "#         \"system\",\n",
    "#         \"You are a helpful assistant that translates English to French. Translate the user sentence.\",\n",
    "#     ),\n",
    "#     (\"human\", \"I love programming.\"),\n",
    "# ]\n",
    "# ai_msg = llm.invoke(messages)\n"
   ]
  },
  {
   "cell_type": "code",
   "execution_count": 18,
   "metadata": {},
   "outputs": [
    {
     "data": {
      "text/plain": [
       "<langgraph.graph.state.StateGraph at 0x1c7450a8a40>"
      ]
     },
     "execution_count": 18,
     "metadata": {},
     "output_type": "execute_result"
    }
   ],
   "source": [
    "def chatbot(state: State):\n",
    "    # return {\"messages\": [llm.invoke(state[\"messages\"])]}\n",
    "    return {\"messages\": [llm_with_tools.invoke(state[\"messages\"])]}\n",
    "\n",
    "graph_builder.add_node(\"chatbot\", chatbot)"
   ]
  },
  {
   "cell_type": "code",
   "execution_count": 19,
   "metadata": {},
   "outputs": [
    {
     "data": {
      "text/plain": [
       "<langgraph.graph.state.StateGraph at 0x1c7450a8a40>"
      ]
     },
     "execution_count": 19,
     "metadata": {},
     "output_type": "execute_result"
    }
   ],
   "source": [
    "import json\n",
    "\n",
    "from langchain_core.messages import ToolMessage\n",
    "\n",
    "\n",
    "# class BasicToolNode:\n",
    "#     \"\"\"A node that runs the tools requested in the last AIMessage.\"\"\"\n",
    "\n",
    "#     def __init__(self, tools: list) -> None:\n",
    "#         self.tools_by_name = {tool.name: tool for tool in tools}\n",
    "\n",
    "#     def __call__(self, inputs: dict):\n",
    "#         if messages := inputs.get(\"messages\", []):\n",
    "#             message = messages[-1]\n",
    "#         else:\n",
    "#             raise ValueError(\"No message found in input\")\n",
    "#         outputs = []\n",
    "#         for tool_call in message.tool_calls:\n",
    "#             tool_result = self.tools_by_name[tool_call[\"name\"]].invoke(\n",
    "#                 tool_call[\"args\"]\n",
    "#             )\n",
    "#             outputs.append(\n",
    "#                 ToolMessage(\n",
    "#                     content=json.dumps(tool_result),\n",
    "#                     name=tool_call[\"name\"],\n",
    "#                     tool_call_id=tool_call[\"id\"],\n",
    "#                 )\n",
    "#             )\n",
    "#         return {\"messages\": outputs}\n",
    "\n",
    "\n",
    "# tool_node = BasicToolNode(tools=[tool])\n",
    "# graph_builder.add_node(\"tools\", tool_node)\n",
    "\n",
    "from langgraph.prebuilt import ToolNode, tools_condition\n",
    "\n",
    "tool_node = ToolNode(tools = [tool])\n",
    "graph_builder.add_node(\"tools\", tool_node)"
   ]
  },
  {
   "cell_type": "code",
   "execution_count": null,
   "metadata": {},
   "outputs": [],
   "source": [
    "# graph_builder.add_edge(START, \"chatbot\")\n",
    "# graph_builder.add_edge(\"chatbot\", END)\n",
    "# graph = graph_builder.compile()\n",
    "\n",
    "\n",
    "from typing import Literal\n",
    "\n",
    "\n",
    "def route_tools(\n",
    "    state: State,\n",
    "):\n",
    "    \"\"\"\n",
    "    Use in the conditional_edge to route to the ToolNode if the last message\n",
    "    has tool calls. Otherwise, route to the end.\n",
    "    \"\"\"\n",
    "    if isinstance(state, list):\n",
    "        ai_message = state[-1]\n",
    "    elif messages := state.get(\"messages\", []):\n",
    "        ai_message = messages[-1]\n",
    "    else:\n",
    "        raise ValueError(f\"No messages found in input state to tool_edge: {state}\")\n",
    "    if hasattr(ai_message, \"tool_calls\") and len(ai_message.tool_calls) > 0:\n",
    "        return \"tools\"\n",
    "    return END\n",
    "\n",
    "\n",
    "# The `tools_condition` function returns \"tools\" if the chatbot asks to use a tool, and \"END\" if\n",
    "# it is fine directly responding. This conditional routing defines the main agent loop.\n",
    "graph_builder.add_conditional_edges(\n",
    "    \"chatbot\",\n",
    "    route_tools,\n",
    "    # The following dictionary lets you tell the graph to interpret the condition's outputs as a specific node\n",
    "    # It defaults to the identity function, but if you\n",
    "    # want to use a node named something else apart from \"tools\",\n",
    "    # You can update the value of the dictionary to something else\n",
    "    # e.g., \"tools\": \"my_tools\"\n",
    "    {\"tools\": \"tools\", END: END},\n",
    ")\n",
    "# Any time a tool is called, we return to the chatbot to decide the next step\n",
    "graph_builder.add_edge(\"tools\", \"chatbot\")\n",
    "graph_builder.add_edge(START, \"chatbot\")\n",
    "# graph = graph_builder.compile()"
   ]
  },
  {
   "cell_type": "code",
   "execution_count": 25,
   "metadata": {},
   "outputs": [],
   "source": [
    "from langgraph.checkpoint.memory import MemorySaver\n",
    "\n",
    "memory = MemorySaver()\n",
    "\n",
    "graph = graph_builder.compile(checkpointer=memory)"
   ]
  },
  {
   "cell_type": "code",
   "execution_count": 26,
   "metadata": {},
   "outputs": [
    {
     "data": {
      "image/png": "[encoded data removed]",
      "text/plain": [
       "<IPython.core.display.Image object>"
      ]
     },
     "metadata": {},
     "output_type": "display_data"
    }
   ],
   "source": [
    "from IPython.display import Image, display\n",
    "\n",
    "try:\n",
    "    display(Image(graph.get_graph().draw_mermaid_png()))\n",
    "except Exception:\n",
    "    # This requires some extra dependencies and is optional\n",
    "    pass"
   ]
  },
  {
   "cell_type": "code",
   "execution_count": 22,
   "metadata": {},
   "outputs": [],
   "source": [
    "config = {\"configurable\": {\"thread_id\": \"1\"}}"
   ]
  },
  {
   "cell_type": "code",
   "execution_count": 28,
   "metadata": {},
   "outputs": [
    {
     "data": {
      "text/plain": [
       "{'messages': [HumanMessage(content='I love programming.', additional_kwargs={}, response_metadata={}, id='b5504ea1-e46d-4661-8a7b-adccc66da0ac'),\n",
       "  AIMessage(content='', additional_kwargs={}, response_metadata={'model': 'llama3.1', 'created_at': '2024-12-15T23:23:52.1282528Z', 'done': True, 'done_reason': 'stop', 'total_duration': 1834293800, 'load_duration': 1159883200, 'prompt_eval_count': 192, 'prompt_eval_duration': 159000000, 'eval_count': 21, 'eval_duration': 509000000, 'message': {'role': 'assistant', 'content': '', 'images': None, 'tool_calls': [{'function': {'name': 'tavily_search_results_json', 'arguments': {'query': 'programming'}}}]}}, id='run-884b450a-8edf-43df-b87f-e9f9b01c6b53-0', tool_calls=[{'name': 'tavily_search_results_json', 'args': {'query': 'programming'}, 'id': '19a0e7f0-efb6-4891-a5aa-4bd90e4d0e2b', 'type': 'tool_call'}], usage_metadata={'input_tokens': 192, 'output_tokens': 21, 'total_tokens': 213}),\n",
       "  ToolMessage(content='[{\"url\": \"https://en.wikipedia.org/wiki/Computer_programming\", \"content\": \"Computer programming or coding is the composition of sequences of instructions, called programs, that computers can follow to perform tasks. [1] [2] It involves designing and implementing algorithms, step-by-step specifications of procedures, by writing code in one or more programming languages.Programmers typically use high-level programming languages that are more easily intelligible to\"}, {\"url\": \"https://www.coursera.org/articles/what-is-programming\", \"content\": \"Read more: Popular Programming Languages\\\\nTypes of programming languages\\\\nWhile hundreds of programming languages (if not thousands) exist, and there are many ways to classify them, they typically can be grouped into five main categories:\\\\nProcedural programming languages\\\\nFunctional programming languages\\\\nObject-oriented programming languages\\\\nScripting languages\\\\nLogic programming languages\\\\nYou can learn more about the different types of programming languages in the article 5 Types of Programming Language.\\\\n According to a survey by Statista, the top five programming languages that developers use are:\\\\nJavaScript, used by 65.36%\\\\nHTML/CSS, used by 55.08%\\\\nSQL, used by 49.43%\\\\nPython, used by 48.07%\\\\nTypeScript, used by 34.83% [1]\\\\nExplore below what you can do with these programming languages:\\\\nJavaScript\\\\nThis language is used on every major web browser. Ways to connect with other programmers include:\\\\nAttending tech conferences and networking events\\\\nSigning up for a coding bootcamp\\\\nSubscribing to programming influencers and thought leaders\\\\nJoining an online community, such as CodeNewbie or Kaggle\\\\n5. Find tutorials online to complete beginner projects such as:\\\\nCreating a mobile app\\\\nCreating a calculator app\\\\nBuilding a simple game\\\\nBuilding a basic website from scratch\\\\n6. Coursera Footer\\\\nPopular AI Content\\\\nPopular Programs\\\\nPopular Skills\\\\nPopular Career Resources\\\\nCoursera\\\\nCommunity\\\\nMore\"}]', name='tavily_search_results_json', id='544bbdda-e3bb-4d92-88e5-d5ea6bcdb509', tool_call_id='19a0e7f0-efb6-4891-a5aa-4bd90e4d0e2b', artifact={'query': 'programming', 'follow_up_questions': None, 'answer': None, 'images': [], 'results': [{'title': 'Computer programming - Wikipedia', 'url': 'https://en.wikipedia.org/wiki/Computer_programming', 'content': 'Computer programming or coding is the composition of sequences of instructions, called programs, that computers can follow to perform tasks. [1] [2] It involves designing and implementing algorithms, step-by-step specifications of procedures, by writing code in one or more programming languages.Programmers typically use high-level programming languages that are more easily intelligible to', 'score': 0.9853843, 'raw_content': None}, {'title': 'What Is Programming? And How To Get Started - Coursera', 'url': 'https://www.coursera.org/articles/what-is-programming', 'content': 'Read more: Popular Programming Languages\\nTypes of programming languages\\nWhile hundreds of programming languages (if not thousands) exist, and there are many ways to classify them, they typically can be grouped into five main categories:\\nProcedural programming languages\\nFunctional programming languages\\nObject-oriented programming languages\\nScripting languages\\nLogic programming languages\\nYou can learn more about the different types of programming languages in the article 5 Types of Programming Language.\\n According to a survey by Statista, the top five programming languages that developers use are:\\nJavaScript, used by 65.36%\\nHTML/CSS, used by 55.08%\\nSQL, used by 49.43%\\nPython, used by 48.07%\\nTypeScript, used by 34.83% [1]\\nExplore below what you can do with these programming languages:\\nJavaScript\\nThis language is used on every major web browser. Ways to connect with other programmers include:\\nAttending tech conferences and networking events\\nSigning up for a coding bootcamp\\nSubscribing to programming influencers and thought leaders\\nJoining an online community, such as CodeNewbie or Kaggle\\n5. Find tutorials online to complete beginner projects such as:\\nCreating a mobile app\\nCreating a calculator app\\nBuilding a simple game\\nBuilding a basic website from scratch\\n6. Coursera Footer\\nPopular AI Content\\nPopular Programs\\nPopular Skills\\nPopular Career Resources\\nCoursera\\nCommunity\\nMore', 'score': 0.8162599, 'raw_content': None}], 'response_time': 4.32}),\n",
       "  AIMessage(content=\"It seems like you're interested in programming! Programming, or coding, is the composition of sequences of instructions that computers can follow to perform tasks. It involves designing and implementing algorithms by writing code in one or more programming languages.\\n\\nThere are many types of programming languages, including:\\n\\n1. Procedural programming languages\\n2. Functional programming languages\\n3. Object-oriented programming languages\\n4. Scripting languages\\n5. Logic programming languages\\n\\nSome popular programming languages include JavaScript, HTML/CSS, SQL, Python, and TypeScript. You can learn more about these languages and how to use them by exploring online resources such as Coursera, CodeNewbie, or Kaggle.\\n\\nIf you're a beginner, here are some steps you can take to get started:\\n\\n1. Find tutorials online to complete beginner projects.\\n2. Create a mobile app, calculator app, simple game, or basic website from scratch.\\n3. Attend tech conferences and networking events.\\n4. Sign up for a coding bootcamp.\\n5. Subscribe to programming influencers and thought leaders.\\n\\nRemember, the key to learning programming is practice and patience. Don't be afraid to try new things and make mistakes – it's all part of the learning process!\", additional_kwargs={}, response_metadata={'model': 'llama3.1', 'created_at': '2024-12-15T23:24:02.1340349Z', 'done': True, 'done_reason': 'stop', 'total_duration': 4569808900, 'load_duration': 37082500, 'prompt_eval_count': 505, 'prompt_eval_duration': 217000000, 'eval_count': 245, 'eval_duration': 4306000000, 'message': {'role': 'assistant', 'content': \"It seems like you're interested in programming! Programming, or coding, is the composition of sequences of instructions that computers can follow to perform tasks. It involves designing and implementing algorithms by writing code in one or more programming languages.\\n\\nThere are many types of programming languages, including:\\n\\n1. Procedural programming languages\\n2. Functional programming languages\\n3. Object-oriented programming languages\\n4. Scripting languages\\n5. Logic programming languages\\n\\nSome popular programming languages include JavaScript, HTML/CSS, SQL, Python, and TypeScript. You can learn more about these languages and how to use them by exploring online resources such as Coursera, CodeNewbie, or Kaggle.\\n\\nIf you're a beginner, here are some steps you can take to get started:\\n\\n1. Find tutorials online to complete beginner projects.\\n2. Create a mobile app, calculator app, simple game, or basic website from scratch.\\n3. Attend tech conferences and networking events.\\n4. Sign up for a coding bootcamp.\\n5. Subscribe to programming influencers and thought leaders.\\n\\nRemember, the key to learning programming is practice and patience. Don't be afraid to try new things and make mistakes – it's all part of the learning process!\", 'images': None, 'tool_calls': None}}, id='run-7e48e010-22de-4725-a6d4-96773185e30f-0', usage_metadata={'input_tokens': 505, 'output_tokens': 245, 'total_tokens': 750}),\n",
       "  HumanMessage(content='what do i love.', additional_kwargs={}, response_metadata={}, id='8313cc7f-5a69-4eb8-af09-80de36f8a6c4'),\n",
       "  AIMessage(content='', additional_kwargs={}, response_metadata={'model': 'llama3.1', 'created_at': '2024-12-15T23:24:03.982347Z', 'done': True, 'done_reason': 'stop', 'total_duration': 516411700, 'load_duration': 51641600, 'prompt_eval_count': 895, 'prompt_eval_duration': 29000000, 'eval_count': 23, 'eval_duration': 411000000, 'message': Message(role='assistant', content='', images=None, tool_calls=[ToolCall(function=Function(name='tavily_search_results_json', arguments={'query': 'what you love'}))])}, id='run-74fd5c96-9fa3-4962-9f4e-368b7b0e790e-0', tool_calls=[{'name': 'tavily_search_results_json', 'args': {'query': 'what you love'}, 'id': '1b8683d5-ab8b-4f72-a12a-438636005efa', 'type': 'tool_call'}], usage_metadata={'input_tokens': 895, 'output_tokens': 23, 'total_tokens': 918}),\n",
       "  ToolMessage(content='[{\"url\": \"https://www.youtube.com/watch?v=AQmFEOSp4z8\", \"content\": \"Official lyric video for \\\\\"What You Love\\\\\" by Cody Jinks. From the \\\\\"Change the Game\\\\\" album. Listen to all Cody Jinks albums at https://www.codyjinks.comGet Cod\"}, {\"url\": \"https://www.lifehack.org/532578/what-you-love-and-love-what-you-thats-the-only-way-succeed\", \"content\": \"For example, if you love writing but rarely make time for it, consider getting up 30 minutes earlier than normal. Or instead of browsing your phone for 30 minutes before bed, you can write instead. There is always a way to find time for what you love. Final Thoughts. If you love what you do, each day becomes a joyful adventure.\"}]', name='tavily_search_results_json', id='764c5740-9217-41c9-acf4-d571293cfeb9', tool_call_id='1b8683d5-ab8b-4f72-a12a-438636005efa', artifact={'query': 'what you love', 'follow_up_questions': None, 'answer': None, 'images': [], 'results': [{'title': 'Cody Jinks | What You Love | Official Lyric Video - YouTube', 'url': 'https://www.youtube.com/watch?v=AQmFEOSp4z8', 'content': 'Official lyric video for \"What You Love\" by Cody Jinks. From the \"Change the Game\" album. Listen to all Cody Jinks albums at https://www.codyjinks.comGet Cod', 'score': 0.9941801, 'raw_content': None}, {'title': 'How to Do What You Love and Love What You Do to Achieve More', 'url': 'https://www.lifehack.org/532578/what-you-love-and-love-what-you-thats-the-only-way-succeed', 'content': 'For example, if you love writing but rarely make time for it, consider getting up 30 minutes earlier than normal. Or instead of browsing your phone for 30 minutes before bed, you can write instead. There is always a way to find time for what you love. Final Thoughts. If you love what you do, each day becomes a joyful adventure.', 'score': 0.73354733, 'raw_content': None}], 'response_time': 2.3}),\n",
       "  AIMessage(content='It seems like you mentioned that you \"love programming\". I provided information on how to get started with programming and some popular resources.\\n\\nHowever, if you\\'re asking about something else, it appears that the search results mention music and personal development. The song \"What You Love\" by Cody Jinks is a country music song, and an article from Lifehack suggests finding time for activities that bring joy and fulfillment to your life.', additional_kwargs={}, response_metadata={'model': 'llama3.1', 'created_at': '2024-12-15T23:24:09.2675107Z', 'done': True, 'done_reason': 'stop', 'total_duration': 1853783300, 'load_duration': 50714900, 'prompt_eval_count': 973, 'prompt_eval_duration': 168000000, 'eval_count': 86, 'eval_duration': 1617000000, 'message': Message(role='assistant', content='It seems like you mentioned that you \"love programming\". I provided information on how to get started with programming and some popular resources.\\n\\nHowever, if you\\'re asking about something else, it appears that the search results mention music and personal development. The song \"What You Love\" by Cody Jinks is a country music song, and an article from Lifehack suggests finding time for activities that bring joy and fulfillment to your life.', images=None, tool_calls=None)}, id='run-a5316773-d872-4da5-a63e-b13d04d30baa-0', usage_metadata={'input_tokens': 973, 'output_tokens': 86, 'total_tokens': 1059})]}"
      ]
     },
     "execution_count": 28,
     "metadata": {},
     "output_type": "execute_result"
    }
   ],
   "source": [
    "graph.invoke({\"messages\": [(\"user\", \"what do i love.\")]}, config=config)"
   ]
  },
  {
   "cell_type": "code",
   "execution_count": 31,
   "metadata": {},
   "outputs": [
    {
     "name": "stdout",
     "output_type": "stream",
     "text": [
      "================================\u001b[1m Human Message \u001b[0m=================================\n",
      "\n",
      "who are you\n",
      "==================================\u001b[1m Ai Message \u001b[0m==================================\n",
      "Tool Calls:\n",
      "  tavily_search_results_json (6db1630b-991b-4eec-b3aa-0e60048faaf3)\n",
      " Call ID: 6db1630b-991b-4eec-b3aa-0e60048faaf3\n",
      "  Args:\n",
      "    query: weather in Madurai\n",
      "  tavily_search_results_json (f37b7727-90d0-4186-a9e3-fbde0d28184b)\n",
      " Call ID: f37b7727-90d0-4186-a9e3-fbde0d28184b\n",
      "  Args:\n",
      "    query: LangGraph\n",
      "  tavily_search_results_json (268d5046-68a3-495d-a68a-9d37184566cd)\n",
      " Call ID: 268d5046-68a3-495d-a68a-9d37184566cd\n",
      "  Args:\n",
      "    query: greeting\n",
      "  tavily_search_results_json (fae0f462-4d52-4eaf-a2be-94642156ceeb)\n",
      " Call ID: fae0f462-4d52-4eaf-a2be-94642156ceeb\n",
      "  Args:\n",
      "    query: LangGraph\n",
      "  tavily_search_results_json (34fed208-77e1-492f-afe2-5b36730758d5)\n",
      " Call ID: 34fed208-77e1-492f-afe2-5b36730758d5\n",
      "  Args:\n",
      "    query: assistant\n",
      "=================================\u001b[1m Tool Message \u001b[0m=================================\n",
      "Name: tavily_search_results_json\n",
      "\n",
      "[{\"url\": \"https://www.merriam-webster.com/thesaurus/assistant\", \"content\": \"ASSISTANT Synonyms: 84 Similar and Opposite Words | Merriam-Webster Thesaurus Word of the Day My Words My Words as in assisting   as in assisting assistant 1 of 2 Definition of assistant assistant as in assisting assisting Examples of assistant in a Sentence —Max Goldbart, Deadline, 31 Oct. 2024 See all Example Sentences for assistant   Recent Examples of Synonyms for assistant Definition of aide Definition of apprentice Definition of deputy Definition of aid Definition of adjutant Definition of sidekick Thesaurus Entries Near assistant assistances assistant assistants Post more words for assistant to Facebook  Facebook Share more words for assistant on Twitter  Twitter More from Merriam-Webster on assistant ### Can you solve 4 words at once? Word of the Day\"}, {\"url\": \"https://support.google.com/assistant/?hl=en\", \"content\": \"Google Assistant Help Google Assistant Help Google Assistant Get the Google Assistant at home Get Google Assistant in your car Get started with the Google Assistant on Pixel Change Google Assistant settings Use multiple accounts at once on your Google Assistant devices Set up parental controls on Google Assistant devices Fix Google Assistant screenshot settings Get manufacturer help for your Google Assistant device Submit feedback about your Google Assistant Fix issues with Google Assistant on headphones How to get Google Assistant to take action Changes we’re making to Google Assistant Choose what to share with your Google Assistant How Google Assistant protects your privacy How Google Assistant is designed for your privacy Google Help * Help Center* Community* Google Assistant\"}]\n",
      "==================================\u001b[1m Ai Message \u001b[0m==================================\n",
      "\n",
      "The current weather in Madurai, India is 22.2°C (72°F) with a misty condition and a wind speed of 8.3 kph (5.1 mph). The humidity is 83% and there will be no precipitation.\n",
      "\n",
      "LangGraph is a library within the LangChain ecosystem that simplifies the development of complex, multi-agent large language model (LLM) applications. It allows you to create stateful, flexible, and scalable systems with nodes, edges, and state management.\n",
      "\n",
      "As for me, I'm an assistant designed to provide helpful and accurate information to users.\n",
      "Goodbye!\n"
     ]
    }
   ],
   "source": [
    "def stream_graph_updates(user_input: str):\n",
    "    for event in graph.stream({\"messages\": [(\"user\", user_input)]},config=config, stream_mode='values'):\n",
    "        # for value in event.values():\n",
    "        #     print(\"Assistant:\", value[\"messages\"][-1].content)\n",
    "        # for event in events:\n",
    "        event[\"messages\"][-1].pretty_print()\n",
    "\n",
    "\n",
    "while True:\n",
    "    try:\n",
    "        user_input = input(\"User: \")\n",
    "        if user_input.lower() in [\"quit\", \"exit\", \"q\"]:\n",
    "            print(\"Goodbye!\")\n",
    "            break\n",
    "\n",
    "        stream_graph_updates(user_input)\n",
    "    except:\n",
    "        # fallback if input() is not available\n",
    "        user_input = \"What do you know about LangGraph?\"\n",
    "        print(\"User: \" + user_input)\n",
    "        stream_graph_updates(user_input)\n",
    "        break"
   ]
  },
  {
   "cell_type": "code",
   "execution_count": 15,
   "metadata": {},
   "outputs": [
    {
     "data": {
      "text/plain": [
       "Graph(nodes={'__start__': Node(id='__start__', name='__start__', data=<class 'langchain_core.utils.pydantic.LangGraphInput'>, metadata=None), 'chatbot': Node(id='chatbot', name='chatbot', data=chatbot(tags=None, recurse=True, func_accepts_config=False, func_accepts={'writer': False, 'store': False}), metadata=None), 'tools': Node(id='tools', name='tools', data=tools(tags=None, recurse=True, func_accepts_config=False, func_accepts={'writer': False, 'store': False}), metadata=None), '__end__': Node(id='__end__', name='__end__', data=<class 'langchain_core.utils.pydantic.LangGraphOutput'>, metadata=None)}, edges=[Edge(source='__start__', target='chatbot', data=None, conditional=False), Edge(source='tools', target='chatbot', data=None, conditional=False), Edge(source='chatbot', target='tools', data=None, conditional=True), Edge(source='chatbot', target='__end__', data=None, conditional=True)])"
      ]
     },
     "execution_count": 15,
     "metadata": {},
     "output_type": "execute_result"
    }
   ],
   "source": [
    "graph.get_graph()"
   ]
  },
  {
   "cell_type": "code",
   "execution_count": null,
   "metadata": {},
   "outputs": [],
   "source": []
  }
 ],
 "metadata": {
  "kernelspec": {
   "display_name": "torchenv",
   "language": "python",
   "name": "python3"
  },
  "language_info": {
   "codemirror_mode": {
    "name": "ipython",
    "version": 3
   },
   "file_extension": ".py",
   "mimetype": "text/x-python",
   "name": "python",
   "nbconvert_exporter": "python",
   "pygments_lexer": "ipython3",
   "version": "3.12.5"
  }
 },
 "nbformat": 4,
 "nbformat_minor": 2
}
