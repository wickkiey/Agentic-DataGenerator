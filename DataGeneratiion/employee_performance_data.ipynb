{
 "cells": [
  {
   "cell_type": "code",
   "execution_count": null,
   "metadata": {},
   "outputs": [],
   "source": [
    "from typing import Annotated\n",
    "from typing_extensions import TypedDict\n",
    "from langgraph.graph import StateGraph, START, END\n",
    "from langgraph.graph.message import add_messages"
   ]
  },
  {
   "cell_type": "code",
   "execution_count": null,
   "metadata": {},
   "outputs": [],
   "source": [
    "from dotenv import load_dotenv\n",
    "load_dotenv()"
   ]
  },
  {
   "cell_type": "code",
   "execution_count": null,
   "metadata": {},
   "outputs": [],
   "source": [
    "from langchain_ollama import ChatOllama\n",
    "\n",
    "llm = ChatOllama(\n",
    "    model=\"llama3.1\",\n",
    "    temperature=0,\n",
    "    max_length=6000,\n",
    "    # other params...\n",
    ")"
   ]
  },
  {
   "cell_type": "code",
   "execution_count": null,
   "metadata": {},
   "outputs": [],
   "source": [
    "import json\n",
    "\n",
    "system_prompt = \"\"\"\n",
    "You are a helpful AI Assistant who generates data for the given details.\n",
    "\n",
    "For the user given Department, Job Title. Make assessment and feedback as 10 lines.\n",
    "Provide only the JSON response, don't include anything else. Make all values as string data type.\n",
    "Please generate the data as an employee performance review data in JSON Format as below: \n",
    "{sample_data}\"\"\" \n"
   ]
  },
  {
   "cell_type": "code",
   "execution_count": null,
   "metadata": {},
   "outputs": [],
   "source": [
    "sample_data = \"\"\"   'Department': <user given value>,\n",
    "    'JobTitle': <user given value>,\n",
    "    'ReviewPeriod': '2024',\n",
    "    'NoofProjects Accomplished': <1-7>,\n",
    "    'TrainingandCertifications': <comma separated list>,\n",
    "    'Awards': <comma separated list can be empty as well>,\n",
    "    'Strengths': <5 lines>,\n",
    "    'SelfAssessment': <10 lines>,\n",
    "    'ClientsFeedback': <10 lines>,\n",
    "    'ManagerAssessment': <10 lines>,\n",
    "    'AreasforImprovement': <comma separated list of upto 5 items>,\n",
    "    'KPIs': <comma separated list>,\n",
    "    'OverallRating': <user given value>\n",
    "\"\"\""
   ]
  },
  {
   "cell_type": "code",
   "execution_count": null,
   "metadata": {},
   "outputs": [],
   "source": [
    "# Define your desired data structure.\n",
    "from langchain_core.output_parsers import JsonOutputParser\n",
    "from pydantic import BaseModel, Field\n",
    "class employee_performance(BaseModel):\n",
    "    JobTitle: str = Field(description=\"Job Title of the employee\")\n",
    "    Department: str = Field(description=\"Department of the employee\")   \n",
    "    ReviewPeriod: str = Field(description=\"Review Period of the employee\")\n",
    "    NoofProjects: str = Field(description=\"Number of Projects Accomplished by the employee\")\n",
    "    TrainingandCertifications: str = Field(description=\"Training and Certifications of the employee\")\n",
    "    Awards: str = Field(description=\"Awards received by the employee\")\n",
    "    Strengths: str = Field(description=\"Strengths of the employee\")\n",
    "    SelfAssessment: str = Field(description=\"Self Assessment of the employee\")\n",
    "    ClientsFeedback: str = Field(description=\"Feedback from clients\")\n",
    "    ManagerAssessment: str = Field(description=\"Manager's Assessment\")\n",
    "    AreasforImprovement: str = Field(description=\"Areas for Improvement\")\n",
    "    KPIs: str = Field(description=\"Key Performance Indicators\")\n",
    "    OverallRating: str = Field(description=\"Overall Rating of the employee\")\n",
    "\n",
    "\n",
    "parser = JsonOutputParser(pydantic_object=employee_performance)\n"
   ]
  },
  {
   "cell_type": "code",
   "execution_count": null,
   "metadata": {},
   "outputs": [],
   "source": [
    "from langchain_core.prompts import ChatPromptTemplate\n",
    "prompt = ChatPromptTemplate.from_messages(\n",
    "    [\n",
    "        (\n",
    "            \"system\",\n",
    "            system_prompt + sample_data,\n",
    "        ),\n",
    "        (\"human\", \"{input}\"),\n",
    "    ]\n",
    ")\n",
    "\n",
    "chain = prompt | llm | parser\n",
    "response = chain.invoke(\n",
    "    {\n",
    "        \"sample_data\": sample_data,  \n",
    "        \"input\": \"Department: Data Science\\nJob Title: Data Scientist\\nReview Period: 2024\\nOverall Rating: 6\",\n",
    "    }\n",
    ")"
   ]
  },
  {
   "cell_type": "code",
   "execution_count": null,
   "metadata": {},
   "outputs": [],
   "source": [
    "# response"
   ]
  },
  {
   "cell_type": "code",
   "execution_count": null,
   "metadata": {},
   "outputs": [],
   "source": [
    "company_name = \"IT_Company\"\n",
    "departments = [\"Data Science\", \"Data Engineering\", \"Software Engineering\", \"Product Management\", \"Sales\", \"Marketing\", \"HR\", \"Finance\", \"Legal\", \"Operations\", \"Customer Support\"]\n",
    "job_titles = {\n",
    "    \"Data Science\": [\"Data Scientist\", \"Data Analyst\", \"Data Engineer\", \"Machine Learning Engineer\", \"AI Research Scientist\"],\n",
    "    \"Data Engineering\": [\"Data Engineer\", \"Data Architect\", \"Data Warehouse Engineer\", \"Data Integration Engineer\"],\n",
    "    \"Software Engineering\": [\"Software Engineer\", \"Frontend Engineer\", \"Backend Engineer\", \"Fullstack Engineer\", \"DevOps Engineer\"],\n",
    "    \"Product Management\": [\"Product Manager\", \"Product Owner\", \"Product Analyst\", \"Product Marketing Manager\"],\n",
    "    \"Sales\": [\"Sales Representative\", \"Sales Manager\", \"Sales Engineer\", \"Sales Operations Manager\"],\n",
    "    \"Marketing\": [\"Marketing Manager\", \"Marketing Specialist\", \"Marketing Analyst\", \"Marketing Operations Manager\"],\n",
    "    \"HR\": [\"HR Manager\", \"HR Specialist\", \"HR Generalist\", \"HR Business Partner\"],\n",
    "    \"Finance\": [\"Finance Manager\", \"Finance Analyst\", \"Financial Analyst\", \"Accountant\"],\n",
    "    \"Legal\": [\"Legal Counsel\", \"Legal Assistant\", \"Legal Analyst\", \"Legal Operations Manager\"],\n",
    "    \"Operations\": [\"Operations Manager\", \"Operations Analyst\", \"Operations Specialist\", \"Operations Coordinator\"],\n",
    "    \"Customer Support\": [\"Customer Support Representative\", \"Customer Support Manager\", \"Customer Support Specialist\", \"Customer Support Analyst\"]\n",
    "}\n",
    "\n",
    "def get_random_btwn_4_10():\n",
    "    return str(random.randint(4, 10))\n"
   ]
  },
  {
   "cell_type": "code",
   "execution_count": null,
   "metadata": {},
   "outputs": [],
   "source": [
    "import random\n",
    "for i in range(100,500):\n",
    "    department = random.choice(departments)\n",
    "    job_title = random.choice(job_titles[department])\n",
    "    response = chain.invoke(\n",
    "        {\n",
    "            \"sample_data\": sample_data,  \n",
    "            \"input\": f\"Department: {department}\\nJob Title: {job_title}\\nReview Period: 2024\\nOverall Rating: {get_random_btwn_4_10()}\",\n",
    "        }\n",
    "    )\n",
    "    print(response)\n",
    "    \n",
    "    # save to data folder as json file\n",
    "    with open(f\"data/empid_{i}.json\", \"w\") as f:\n",
    "        json.dump(response, f)"
   ]
  },
  {
   "cell_type": "code",
   "execution_count": null,
   "metadata": {},
   "outputs": [],
   "source": []
  }
 ],
 "metadata": {
  "kernelspec": {
   "display_name": "torchenv",
   "language": "python",
   "name": "python3"
  },
  "language_info": {
   "codemirror_mode": {
    "name": "ipython",
    "version": 3
   },
   "file_extension": ".py",
   "mimetype": "text/x-python",
   "name": "python",
   "nbconvert_exporter": "python",
   "pygments_lexer": "ipython3",
   "version": "3.12.5"
  }
 },
 "nbformat": 4,
 "nbformat_minor": 2
}
